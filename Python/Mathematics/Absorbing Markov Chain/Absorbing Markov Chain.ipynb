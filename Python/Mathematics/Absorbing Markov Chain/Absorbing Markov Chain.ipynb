{
 "cells": [
  {
   "cell_type": "markdown",
   "metadata": {},
   "source": [
    "## Absorbing Markov Chain \n",
    "##### Keywords: Linear algebra, Markov Chain"
   ]
  },
  {
   "cell_type": "code",
   "execution_count": 1,
   "metadata": {},
   "outputs": [],
   "source": [
    "%matplotlib inline\n",
    "import numpy as np\n",
    "from numpy import linalg as lin\n",
    "import os\n",
    "cwd      = os.getcwd() \n",
    "datapath = cwd + u'/data/'"
   ]
  },
  {
   "cell_type": "markdown",
   "metadata": {},
   "source": [
    "### Consider a rat in a maze with 3 cells, indexed as 1,2,3 and the outside (freedom), indexed by 4 (that can only be reached via cell 3).  The rat starts initially in a given cell and then takes a move to another cell, continuing to do so until finally reaching freedom. \n",
    "### Goal: simulate rat moving around and count steps it takes to get to freedom\n",
    "<img src=\"4rat.png\" alt=\"Drawing\" style=\"width: 200px;\"/>\n"
   ]
  },
  {
   "cell_type": "code",
   "execution_count": 2,
   "metadata": {},
   "outputs": [],
   "source": [
    "S = [1,2,3,4]\n",
    "import random\n",
    "import numpy as np\n",
    "\n",
    "def steps(i):\n",
    "    if(i==1):\n",
    "        next_move = 2\n",
    "        return 1+steps(next_move)\n",
    "    \n",
    "    if(i == 2):\n",
    "        next_move = random.choice([1,3,4])\n",
    "        return 1+steps(next_move)\n",
    "        \n",
    "    if(i == 3):\n",
    "        next_move = 2\n",
    "        return 1+steps(next_move)\n",
    "    \n",
    "    if(i == 4):\n",
    "        return 0"
   ]
  },
  {
   "cell_type": "markdown",
   "metadata": {
    "collapsed": true
   },
   "source": [
    "### Count in general, on average how many steps it takes to start from cell 2 and ends with freedom\n",
    "### Run N = 100 times, each time compute average of 50 moves\n",
    "<img src=\"4rat.png\" alt=\"Drawing\" style=\"width: 200px;\"/>\n"
   ]
  },
  {
   "cell_type": "code",
   "execution_count": 11,
   "metadata": {},
   "outputs": [
    {
     "name": "stdout",
     "output_type": "stream",
     "text": [
      "start move from cell 1\n"
     ]
    },
    {
     "data": {
      "image/png": "[encoded data removed]",
      "text/plain": [
       "<matplotlib.figure.Figure at 0x106240f98>"
      ]
     },
     "metadata": {},
     "output_type": "display_data"
    },
    {
     "name": "stdout",
     "output_type": "stream",
     "text": [
      "6.0752\n",
      "start move from cell 2\n"
     ]
    },
    {
     "data": {
      "image/png": "[encoded data removed]",
      "text/plain": [
       "<matplotlib.figure.Figure at 0x101488dd8>"
      ]
     },
     "metadata": {},
     "output_type": "display_data"
    },
    {
     "name": "stdout",
     "output_type": "stream",
     "text": [
      "4.9852\n",
      "start move from cell 3\n"
     ]
    },
    {
     "data": {
      "image/png": "[encoded data removed]",
      "text/plain": [
       "<matplotlib.figure.Figure at 0x1065afc18>"
      ]
     },
     "metadata": {},
     "output_type": "display_data"
    },
    {
     "name": "stdout",
     "output_type": "stream",
     "text": [
      "6.034\n"
     ]
    }
   ],
   "source": [
    "import matplotlib.pyplot as plt\n",
    "\n",
    "for start in [1,2,3]:\n",
    "    Run_total = np.zeros(100)\n",
    "    N_move    = 50\n",
    "    print(\"start move from cell\", start)\n",
    "    for each_run in range(100):\n",
    "        move = np.zeros(N_move)\n",
    "        for each_move in range(N_move):\n",
    "            move[each_move] = steps(start)\n",
    "        Run_total[each_run] = np.mean(move)\n",
    "    plt.hist(Run_total,bins = 10)\n",
    "    plt.show()\n",
    "    print(Run_total.mean())\n"
   ]
  },
  {
   "cell_type": "markdown",
   "metadata": {},
   "source": [
    "### 1-step transition matrix associated with this problem\n",
    "<img src=\"4rat.png\" alt=\"Drawing\" style=\"width: 200px;\"/>\n",
    "\n",
    "\n",
    "$$\n",
    "P = \\begin{pmatrix}\n",
    "0 & 1 & 0 & 0\\\\\n",
    "1/3 & 0 & 1/3 & 1/3\\\\\n",
    "0 & 1 & 0 & 0\\\\\n",
    "0 & 0 & 0 & 1\\\\\n",
    "\\end{pmatrix}\n",
    "$$\n"
   ]
  },
  {
   "cell_type": "code",
   "execution_count": 3,
   "metadata": {},
   "outputs": [
    {
     "name": "stdout",
     "output_type": "stream",
     "text": [
      "[[0.         1.         0.         0.        ]\n",
      " [0.33333333 0.         0.33333333 0.33333333]\n",
      " [0.         1.         0.         0.        ]\n",
      " [0.         0.         0.         1.        ]]\n"
     ]
    }
   ],
   "source": [
    "P = np.array(\n",
    "[[0,1,0,0],\n",
    " [1/3,0,1/3,1/3],\n",
    " [0,1,0,0],\n",
    " [0,0,0,1] \n",
    "]\n",
    ")\n",
    "print(P)"
   ]
  },
  {
   "cell_type": "code",
   "execution_count": 4,
   "metadata": {},
   "outputs": [
    {
     "name": "stdout",
     "output_type": "stream",
     "text": [
      "[[0.         1.         0.        ]\n",
      " [0.33333333 0.         0.33333333]\n",
      " [0.         1.         0.        ]]\n",
      "[[0.        ]\n",
      " [0.33333333]\n",
      " [0.        ]]\n",
      "[[ 1.         -1.          0.        ]\n",
      " [-0.33333333  1.         -0.33333333]\n",
      " [ 0.         -1.          1.        ]]\n",
      "[[2. 3. 1.]\n",
      " [1. 3. 1.]\n",
      " [1. 3. 2.]]\n"
     ]
    }
   ],
   "source": [
    "\n",
    "S = [1,2,3,4]\n",
    "N_absorption = 1\n",
    "\n",
    "\n",
    "Q = np.matrix(P[:len(S)-N_absorption, :len(S)-N_absorption])\n",
    "print(Q)\n",
    "\n",
    "\n",
    "R = np.matrix(P[:len(S)-N_absorption,-N_absorption:])\n",
    "print(R\n",
    "     )\n",
    "\n",
    "diff = np.matrix(np.eye(len(Q)) - Q)\n",
    "N    = diff**(-1)\n",
    "print(diff)\n",
    "print(N)"
   ]
  },
  {
   "cell_type": "markdown",
   "metadata": {},
   "source": [
    "###  the expected time of being absorbed is Nc\n",
    "where $c = (1,1,...,1)^T$\n",
    "### The probability of being absorbed by one of the absorption states is NR"
   ]
  },
  {
   "cell_type": "code",
   "execution_count": 5,
   "metadata": {},
   "outputs": [
    {
     "name": "stdout",
     "output_type": "stream",
     "text": [
      "[[6.]\n",
      " [5.]\n",
      " [6.]]\n",
      "[[1.]\n",
      " [1.]\n",
      " [1.]]\n"
     ]
    }
   ],
   "source": [
    "c = np.ones((len(N),1))\n",
    "Tabs = N*c\n",
    "Pabs = N*R\n",
    "print(Tabs)\n",
    "print(Pabs)"
   ]
  },
  {
   "cell_type": "markdown",
   "metadata": {},
   "source": [
    "### Drunkard's examples\n",
    "<img src=\"drunkard.png\" alt=\"Drawing\" style=\"width: 300px;\"/>\n",
    "\n"
   ]
  },
  {
   "cell_type": "code",
   "execution_count": 6,
   "metadata": {},
   "outputs": [
    {
     "data": {
      "text/plain": [
       "3"
      ]
     },
     "execution_count": 6,
     "metadata": {},
     "output_type": "execute_result"
    }
   ],
   "source": [
    "S = [0,1,2,3,4]\n",
    "def steps_drunkard(i):\n",
    "    #print(i,'->')\n",
    "    if(i == 3 or i == 4):\n",
    "        return 0\n",
    "    \n",
    "    if(i == 0):\n",
    "        next_move = random.choice([3,1])\n",
    "        return 1 + steps_drunkard(next_move)\n",
    "\n",
    "    if(i == 1):\n",
    "        next_move = random.choice([0,2])\n",
    "        return 1 + steps_drunkard(next_move)\n",
    "    \n",
    "    if(i == 2):\n",
    "        next_move = random.choice([4,1])\n",
    "        return 1 + steps_drunkard(next_move)\n",
    "\n",
    "steps_drunkard(2)"
   ]
  },
  {
   "cell_type": "markdown",
   "metadata": {},
   "source": [
    "<img src=\"drunkard.png\" alt=\"Drawing\" style=\"width: 300px;\"/>\n"
   ]
  },
  {
   "cell_type": "code",
   "execution_count": 10,
   "metadata": {},
   "outputs": [],
   "source": [
    "S = [0,1,2,3,4]\n",
    "N_exp = 100\n",
    "N_simulations = 50\n",
    "N_s   = 5\n",
    "experiments = np.zeros((N_s,N_exp))"
   ]
  },
  {
   "cell_type": "code",
   "execution_count": 11,
   "metadata": {},
   "outputs": [],
   "source": [
    "for block in S:\n",
    "    for i in range(N_exp):\n",
    "        each_experiment = np.zeros(N_simulations)\n",
    "        for j in range(N_simulations):\n",
    "            each_experiment[j] = steps_drunkard(block)\n",
    "        experiments[block,i] = np.mean(each_experiment)\n"
   ]
  },
  {
   "cell_type": "markdown",
   "metadata": {},
   "source": [
    "<img src=\"drunkard.png\" alt=\"Drawing\" style=\"width: 300px;\"/>\n"
   ]
  },
  {
   "cell_type": "code",
   "execution_count": 13,
   "metadata": {},
   "outputs": [
    {
     "name": "stdout",
     "output_type": "stream",
     "text": [
      "0 number of moves:  3.0416\n"
     ]
    },
    {
     "data": {
      "image/png": "[encoded data removed]",
      "text/plain": [
       "<Figure size 432x288 with 1 Axes>"
      ]
     },
     "metadata": {
      "needs_background": "light"
     },
     "output_type": "display_data"
    },
    {
     "name": "stdout",
     "output_type": "stream",
     "text": [
      "1 number of moves:  4.1008000000000004\n"
     ]
    },
    {
     "data": {
      "image/png": "[encoded data removed]",
      "text/plain": [
       "<Figure size 432x288 with 1 Axes>"
      ]
     },
     "metadata": {
      "needs_background": "light"
     },
     "output_type": "display_data"
    },
    {
     "name": "stdout",
     "output_type": "stream",
     "text": [
      "2 number of moves:  3.0012\n"
     ]
    },
    {
     "data": {
      "image/png": "[encoded data removed]",
      "text/plain": [
       "<Figure size 432x288 with 1 Axes>"
      ]
     },
     "metadata": {
      "needs_background": "light"
     },
     "output_type": "display_data"
    },
    {
     "name": "stdout",
     "output_type": "stream",
     "text": [
      "3 number of moves:  0.0\n"
     ]
    },
    {
     "data": {
      "image/png": "[encoded data removed]",
      "text/plain": [
       "<Figure size 432x288 with 1 Axes>"
      ]
     },
     "metadata": {
      "needs_background": "light"
     },
     "output_type": "display_data"
    },
    {
     "name": "stdout",
     "output_type": "stream",
     "text": [
      "4 number of moves:  0.0\n"
     ]
    },
    {
     "data": {
      "image/png": "[encoded data removed]",
      "text/plain": [
       "<Figure size 432x288 with 1 Axes>"
      ]
     },
     "metadata": {
      "needs_background": "light"
     },
     "output_type": "display_data"
    }
   ],
   "source": [
    "import matplotlib.pyplot as plt\n",
    "for block in S:\n",
    "    plt.hist(experiments[block,:],bins = 5)\n",
    "    print(block,'number of moves: ', np.mean(experiments[block,:]))\n",
    "    plt.show()"
   ]
  }
 ],
 "metadata": {
  "anaconda-cloud": {},
  "kernelspec": {
   "display_name": "Python 3",
   "language": "python",
   "name": "python3"
  },
  "language_info": {
   "codemirror_mode": {
    "name": "ipython",
    "version": 3
   },
   "file_extension": ".py",
   "mimetype": "text/x-python",
   "name": "python",
   "nbconvert_exporter": "python",
   "pygments_lexer": "ipython3",
   "version": "3.7.0"
  }
 },
 "nbformat": 4,
 "nbformat_minor": 1
}
