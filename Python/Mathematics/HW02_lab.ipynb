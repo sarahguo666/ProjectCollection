{
 "cells": [
  {
   "cell_type": "markdown",
   "metadata": {},
   "source": [
    "## HW02,  Due at 5:00pm, Friday, February 09, 2018\n",
    "## Please submit your homework to blackboard with file name: hw02_01234.ipynb \n",
    "\n",
    "## Please use comments to  explain your code\n"
   ]
  },
  {
   "cell_type": "markdown",
   "metadata": {},
   "source": [
    "# Problem 01 Fair dice\n",
    "\n",
    "Similar to the Exercise in $\\textbf{Lab01}$. We want to set up rolling die random variable and related event here. The program should be able to calculate the probability that a given sequence of die rolls appears.\n",
    "\n",
    "You may follow the process below to code. But it is totally up to you to compose your own work. Just make sure it can run and give the required results.\n",
    "\n",
    "### Ingredients:\n",
    "\n",
    "1. sample space: $\\Omega$\n",
    "1. random variable $X:\\Omega \\rightarrow \\mathbb{R}$\n",
    "1. probability function assuming fair die\n",
    "\n",
    "set up functions\n",
    "\n",
    "1. A sample space of rolling a 6-sided die labelled 1,2,3,4,5,6\n",
    "1. A random variable $X$ on the sample space\n",
    "1. A probability mass function $pmf$ $f()$, assuming the die is fair\n",
    "1. A function that calculate probability of any given string to appear. round the result to 5 decimal place. Like in the coin case, probability that HTH shows up.\n",
    "\n",
    "# Your code should be able to do the following:\n",
    "\n",
    "note that: You don't have to use the comments I wrote below, but you should write your own comments so that our grader can follow your ideas\n",
    "\n",
    "#### For each roll in rolls = ['1','133345','123456','12','17'] \n",
    "Note: roll '12' means you roll a die 2 times, '1' shows up first, then '2' shows up. You want to calculate the probability this occurs\n",
    "\n",
    "#### Calculate the probability of the roll shows up, round the probability to 5 decimal place\n",
    "#### Print your result as following form:\n",
    "#### roll = 1, probability = 0.16667"
   ]
  },
  {
   "cell_type": "code",
   "execution_count": 6,
   "metadata": {
    "collapsed": true
   },
   "outputs": [],
   "source": [
    "#1: define sample space of rolling a 6-sided die labelled 1,2,3,4,5,6\n",
    "#2: define a random variable X on the sample space\n",
    "#3: define probability mass function pmff(), assuming the die is fair\n",
    "#4:  \n",
    "# define a probability function Prob_f, returns probability of a given rolling \n",
    "#\n",
    "# for each roll in ['1','133345','123456','12','17']\n",
    "# print your result as following form, round the probability to 5 digit\n",
    "# roll = 1, probability = 0.16667\n",
    "\n",
    "rolls =  ['1','133345','123456','12','17']\n",
    "\n",
    "\n"
   ]
  },
  {
   "cell_type": "markdown",
   "metadata": {},
   "source": [
    "## Problem 02 unfair dice\n",
    "\n",
    "Do the same as problem 01, but now our die is not fair.\n",
    "\n",
    "1.  define a probability mass function $pmfg()$, assuming the die is not fair. The probability of  getting 1 is \n",
    "    $\\frac{6}{21}$, getting 2 is $\\frac{5}{21}$, getting 3 is $\\frac{4}{21}$ getting 4 is $\\frac{3}{21}$, getting     5 is $\\frac{2}{21}$, getting 6 is $\\frac{1}{21}$\n",
    "1. define a function that calculate probability of any given sequence to appear\n",
    "\n",
    "# Your code should be able to do the following:\n",
    "note that: You don't have to use the comments I wrote below, but you should write your own comments so that our grader will understand what your code means.\n",
    "\n",
    "#### For each roll in rolls = ['1','133345','123456','12','17'] \n",
    "#### Calculate the probability of the roll shows up, round the probability to 5 decimal place\n",
    "#### Print your result as following form:\n",
    "#### roll = 1, probability = 0.28571\n"
   ]
  },
  {
   "cell_type": "code",
   "execution_count": 2,
   "metadata": {
    "collapsed": true
   },
   "outputs": [],
   "source": [
    "rolls = ['1','133345','123456','12','17']\n",
    "\n",
    "\n"
   ]
  },
  {
   "cell_type": "markdown",
   "metadata": {
    "collapsed": true
   },
   "source": [
    "## Problem 03  Cummulative Density Function (cdf) of exponential distributions\n",
    "\n",
    "Note that the  Cummulative Density Function of exponential distribution with parameter $\\lambda$, $\\lambda > 0$ looks like this\n",
    "\n",
    "$\\begin{equation}\n",
    "    F(x;\\lambda)=\n",
    "    \\begin{cases}\n",
    "       1 -  e^{-\\lambda x}, & \\text{if}\\ x\\geq 0 \\\\\n",
    "      0, & \\text{otherwise}\n",
    "    \\end{cases}\n",
    "  \\end{equation}$\n",
    "  \n",
    "\n",
    "## Your code should be able to do the following:\n",
    "\n",
    "Given $\\lambda$, and an array $arr$; your function can return an array of values $F(x;\\lambda)$ for each $x\\in arr$. \n",
    "\n",
    "eg: F([-1,1],0.5) should return [0   0.69673467014368329] of type numpy.ndarray\n",
    "\n",
    "For fixed arr = np.arange(50)/50:\n",
    "\n",
    "For $\\lambda = 0.5~,~1,~1.5$ , save the values $F(arr;\\lambda)$ to a new variable $yi$, and print out their mean.\n",
    "\n",
    "## you may need np.exp()\n"
   ]
  },
  {
   "cell_type": "code",
   "execution_count": 1,
   "metadata": {
    "collapsed": true
   },
   "outputs": [],
   "source": [
    "# your function here\n",
    "\n",
    "def exp_cdf(arr,lam):\n",
    "    \n",
    "    return np.array([])"
   ]
  },
  {
   "cell_type": "code",
   "execution_count": 2,
   "metadata": {},
   "outputs": [
    {
     "ename": "NameError",
     "evalue": "name 'np' is not defined",
     "output_type": "error",
     "traceback": [
      "\u001b[0;31m---------------------------------------------------------------------------\u001b[0m",
      "\u001b[0;31mNameError\u001b[0m                                 Traceback (most recent call last)",
      "\u001b[0;32m<ipython-input-2-8aa3934750ad>\u001b[0m in \u001b[0;36m<module>\u001b[0;34m()\u001b[0m\n\u001b[1;32m      1\u001b[0m \u001b[0;31m# please don't change the value of arr or lambdai's\u001b[0m\u001b[0;34m\u001b[0m\u001b[0;34m\u001b[0m\u001b[0m\n\u001b[0;32m----> 2\u001b[0;31m \u001b[0marr\u001b[0m \u001b[0;34m=\u001b[0m \u001b[0mnp\u001b[0m\u001b[0;34m.\u001b[0m\u001b[0marange\u001b[0m\u001b[0;34m(\u001b[0m\u001b[0;36m50\u001b[0m\u001b[0;34m)\u001b[0m\u001b[0;34m/\u001b[0m\u001b[0;36m50\u001b[0m\u001b[0;34m\u001b[0m\u001b[0m\n\u001b[0m\u001b[1;32m      3\u001b[0m \u001b[0;34m\u001b[0m\u001b[0m\n\u001b[1;32m      4\u001b[0m \u001b[0mlambda1\u001b[0m \u001b[0;34m=\u001b[0m \u001b[0;36m0.5\u001b[0m\u001b[0;34m\u001b[0m\u001b[0m\n\u001b[1;32m      5\u001b[0m \u001b[0my1\u001b[0m \u001b[0;34m=\u001b[0m \u001b[0mexp_cdf\u001b[0m\u001b[0;34m(\u001b[0m\u001b[0marr\u001b[0m\u001b[0;34m,\u001b[0m\u001b[0mlambda1\u001b[0m\u001b[0;34m)\u001b[0m\u001b[0;34m\u001b[0m\u001b[0m\n",
      "\u001b[0;31mNameError\u001b[0m: name 'np' is not defined"
     ]
    }
   ],
   "source": [
    "# please don't change the value of arr or lambdai's\n",
    "arr = np.arange(50)/50\n",
    "\n",
    "lambda1 = 0.5\n",
    "y1 = exp_cdf(arr,lambda1)\n",
    "\n",
    "lambda2 = 1\n",
    "y2 = exp_cdf(arr,lambda2)\n",
    "\n",
    "lambda3 = 1.5\n",
    "y3 = exp_cdf(arr,lambda3)\n",
    "\n",
    "\n",
    "#print the mean of y1, the mean of y2, the mean of y3\n",
    "print()\n"
   ]
  },
  {
   "cell_type": "code",
   "execution_count": null,
   "metadata": {
    "collapsed": true
   },
   "outputs": [],
   "source": []
  },
  {
   "cell_type": "code",
   "execution_count": null,
   "metadata": {
    "collapsed": true
   },
   "outputs": [],
   "source": []
  }
 ],
 "metadata": {
  "kernelspec": {
   "display_name": "Python 3",
   "language": "python",
   "name": "python3"
  },
  "language_info": {
   "codemirror_mode": {
    "name": "ipython",
    "version": 3
   },
   "file_extension": ".py",
   "mimetype": "text/x-python",
   "name": "python",
   "nbconvert_exporter": "python",
   "pygments_lexer": "ipython3",
   "version": "3.6.0"
  }
 },
 "nbformat": 4,
 "nbformat_minor": 2
}
